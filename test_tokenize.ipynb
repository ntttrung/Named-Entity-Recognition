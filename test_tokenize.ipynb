{
 "cells": [
  {
   "cell_type": "code",
   "execution_count": 6,
   "metadata": {
    "collapsed": true
   },
   "outputs": [],
   "source": [
    "from transformers import AutoTokenizer\n",
    "from utils.dataset import NERDataSet"
   ]
  },
  {
   "cell_type": "code",
   "execution_count": null,
   "outputs": [],
   "source": [],
   "metadata": {
    "collapsed": false,
    "pycharm": {
     "name": "#%%\n"
    }
   }
  },
  {
   "cell_type": "code",
   "execution_count": 2,
   "outputs": [],
   "source": [
    "tokenizer = AutoTokenizer.from_pretrained('xlm-roberta-base', use_fast=True)"
   ],
   "metadata": {
    "collapsed": false,
    "pycharm": {
     "name": "#%%\n"
    }
   }
  },
  {
   "cell_type": "code",
   "execution_count": 3,
   "outputs": [],
   "source": [
    "text = \"\"\"Đội ngũ của chúng tôi tại DVSC luôn cố gắng cung cấp cho khách hàng và đối tác những phân tích chính xác nhất đồng thời tạo ra lợi nhuận lâu dài và bền vững .\n",
    "\"\"\"\n",
    "\n"
   ],
   "metadata": {
    "collapsed": false,
    "pycharm": {
     "name": "#%%\n"
    }
   }
  },
  {
   "cell_type": "code",
   "execution_count": 7,
   "outputs": [],
   "source": [
    "ner_dataset = NERDataSet(jsonl_file='dataset/all_data_v1_02t03.jsonl')\n",
    "dataset_df = ner_dataset.dataset_df"
   ],
   "metadata": {
    "collapsed": false,
    "pycharm": {
     "name": "#%%\n"
    }
   }
  },
  {
   "cell_type": "code",
   "execution_count": 9,
   "outputs": [],
   "source": [
    "conll_format = dataset_df.iloc[0]['conll_label']"
   ],
   "metadata": {
    "collapsed": false,
    "pycharm": {
     "name": "#%%\n"
    }
   }
  },
  {
   "cell_type": "code",
   "execution_count": 48,
   "outputs": [],
   "source": [
    "i = 5\n"
   ],
   "metadata": {
    "collapsed": false,
    "pycharm": {
     "name": "#%%\n"
    }
   }
  },
  {
   "cell_type": "code",
   "execution_count": 49,
   "outputs": [
    {
     "data": {
      "text/plain": "['Công B-ORGANIZATION',\n 'ty I-ORGANIZATION',\n 'cổ I-ORGANIZATION',\n 'phần I-ORGANIZATION',\n 'truyền I-ORGANIZATION',\n 'thông I-ORGANIZATION',\n 'đa I-ORGANIZATION',\n 'phương I-ORGANIZATION',\n 'tiện I-ORGANIZATION',\n 'MMS I-ORGANIZATION',\n 'đã O',\n 'được O',\n 'nhiều O',\n 'khách B-PERSONTYPE',\n 'hàng I-PERSONTYPE',\n 'tin O',\n 'cậy O',\n 'và O',\n 'đánh O',\n 'giá O',\n 'cao O',\n 'trong O',\n 'suốt O',\n 'những O',\n 'năm O',\n 'phát O',\n 'triển O',\n '. O']"
     },
     "execution_count": 49,
     "metadata": {},
     "output_type": "execute_result"
    }
   ],
   "source": [
    "dataset_df.iloc[i]['conll_label']"
   ],
   "metadata": {
    "collapsed": false,
    "pycharm": {
     "name": "#%%\n"
    }
   }
  },
  {
   "cell_type": "code",
   "execution_count": 11,
   "outputs": [],
   "source": [
    "word_list = [word.split(' ')[0] for word in conll_format]\n",
    "label_list = [word.split(' ')[-1] for word in conll_format]"
   ],
   "metadata": {
    "collapsed": false,
    "pycharm": {
     "name": "#%%\n"
    }
   }
  },
  {
   "cell_type": "code",
   "execution_count": 12,
   "outputs": [
    {
     "data": {
      "text/plain": "['Ngày',\n 'nay',\n 'nhu',\n 'cầu',\n 'sử',\n 'dụng',\n 'các',\n 'poster',\n ';',\n 'background',\n 'cho',\n 'sự',\n 'kiện',\n ',',\n 'những',\n 'ấn',\n 'phẩm',\n 'truyền',\n 'thông',\n 'ngày',\n 'càng',\n 'được',\n 'ứng',\n 'dụng',\n 'rộng',\n 'rãi',\n '.']"
     },
     "execution_count": 12,
     "metadata": {},
     "output_type": "execute_result"
    }
   ],
   "source": [
    "word_list"
   ],
   "metadata": {
    "collapsed": false,
    "pycharm": {
     "name": "#%%\n"
    }
   }
  },
  {
   "cell_type": "code",
   "execution_count": 13,
   "outputs": [],
   "source": [
    "tokens = tokenizer(word_list, is_split_into_words=True)"
   ],
   "metadata": {
    "collapsed": false,
    "pycharm": {
     "name": "#%%\n"
    }
   }
  },
  {
   "cell_type": "code",
   "execution_count": 16,
   "outputs": [
    {
     "data": {
      "text/plain": "(31, 27)"
     },
     "execution_count": 16,
     "metadata": {},
     "output_type": "execute_result"
    }
   ],
   "source": [
    "len(tokens['input_ids']), len(label_list)"
   ],
   "metadata": {
    "collapsed": false,
    "pycharm": {
     "name": "#%%\n"
    }
   }
  },
  {
   "cell_type": "code",
   "execution_count": 14,
   "outputs": [
    {
     "data": {
      "text/plain": "['<s>',\n '▁Ngày',\n '▁nay',\n '▁nhu',\n '▁cầu',\n '▁sử',\n '▁dụng',\n '▁các',\n '▁poster',\n '▁;',\n '▁background',\n '▁cho',\n '▁sự',\n '▁kiện',\n '▁',\n ',',\n '▁những',\n '▁ấn',\n '▁phẩm',\n '▁truyền',\n '▁thông',\n '▁ngày',\n '▁càng',\n '▁được',\n '▁ứng',\n '▁dụng',\n '▁rộng',\n '▁rãi',\n '▁',\n '.',\n '</s>']"
     },
     "execution_count": 14,
     "metadata": {},
     "output_type": "execute_result"
    }
   ],
   "source": [
    "tokenizer.convert_ids_to_tokens(tokens['input_ids'])"
   ],
   "metadata": {
    "collapsed": false,
    "pycharm": {
     "name": "#%%\n"
    }
   }
  },
  {
   "cell_type": "code",
   "execution_count": 17,
   "outputs": [
    {
     "data": {
      "text/plain": "[None,\n 0,\n 1,\n 2,\n 3,\n 4,\n 5,\n 6,\n 7,\n 8,\n 9,\n 10,\n 11,\n 12,\n 13,\n 13,\n 14,\n 15,\n 16,\n 17,\n 18,\n 19,\n 20,\n 21,\n 22,\n 23,\n 24,\n 25,\n 26,\n 26,\n None]"
     },
     "execution_count": 17,
     "metadata": {},
     "output_type": "execute_result"
    }
   ],
   "source": [
    "tokens.word_ids()"
   ],
   "metadata": {
    "collapsed": false,
    "pycharm": {
     "name": "#%%\n"
    }
   }
  },
  {
   "cell_type": "code",
   "execution_count": 28,
   "outputs": [],
   "source": [
    "from typing import List\n",
    "label_all_tokens = True\n",
    "def tokenize_and_align_labels(data_point: List[str]):\n",
    "    word_list = [word.split(' ')[0] for word in data_point]\n",
    "    label_list = [word.split(' ')[-1] for word in data_point]\n",
    "\n",
    "    tokenized_inputs = tokenizer(word_list, truncation=True, is_split_into_words=True, max_length=128, padding='max_length')\n",
    "    word_ids = tokenized_inputs.word_ids()\n",
    "\n",
    "    previous_word_idx = None\n",
    "    label_ids = []\n",
    "    for word_idx in word_ids:\n",
    "        # Special tokens have a word id that is None. We set the label to -100 so they are automatically\n",
    "        # ignored in the loss function.\n",
    "        if word_idx is None:\n",
    "            label_ids.append(-100)\n",
    "        # We set the label for the first token of each word.\n",
    "        elif word_idx != previous_word_idx:\n",
    "            label_ids.append(label_list[word_idx])\n",
    "        # For the other tokens in a word, we set the label to either the current label or -100, depending on\n",
    "        # the label_all_tokens flag.\n",
    "        else:\n",
    "            label_ids.append(label_list[word_idx] if label_all_tokens else -100)\n",
    "        previous_word_idx = word_idx\n",
    "\n",
    "    tokenized_inputs[\"labels\"] = label_ids\n",
    "    return tokenized_inputs"
   ],
   "metadata": {
    "collapsed": false,
    "pycharm": {
     "name": "#%%\n"
    }
   }
  },
  {
   "cell_type": "code",
   "execution_count": 29,
   "outputs": [],
   "source": [
    "tokenized_inputs = tokenize_and_align_labels(data_point=conll_format)"
   ],
   "metadata": {
    "collapsed": false,
    "pycharm": {
     "name": "#%%\n"
    }
   }
  },
  {
   "cell_type": "code",
   "execution_count": 30,
   "outputs": [
    {
     "data": {
      "text/plain": "{'input_ids': [0, 42812, 7630, 36382, 7756, 5034, 2786, 925, 40908, 2819, 76615, 681, 2550, 16074, 6, 4, 1358, 71846, 5692, 18099, 4225, 3063, 18432, 912, 13932, 2786, 29564, 128080, 6, 5, 2, 1, 1, 1, 1, 1, 1, 1, 1, 1, 1, 1, 1, 1, 1, 1, 1, 1, 1, 1, 1, 1, 1, 1, 1, 1, 1, 1, 1, 1, 1, 1, 1, 1, 1, 1, 1, 1, 1, 1, 1, 1, 1, 1, 1, 1, 1, 1, 1, 1, 1, 1, 1, 1, 1, 1, 1, 1, 1, 1, 1, 1, 1, 1, 1, 1, 1, 1, 1, 1, 1, 1, 1, 1, 1, 1, 1, 1, 1, 1, 1, 1, 1, 1, 1, 1, 1, 1, 1, 1, 1, 1, 1, 1, 1, 1, 1, 1], 'attention_mask': [1, 1, 1, 1, 1, 1, 1, 1, 1, 1, 1, 1, 1, 1, 1, 1, 1, 1, 1, 1, 1, 1, 1, 1, 1, 1, 1, 1, 1, 1, 1, 0, 0, 0, 0, 0, 0, 0, 0, 0, 0, 0, 0, 0, 0, 0, 0, 0, 0, 0, 0, 0, 0, 0, 0, 0, 0, 0, 0, 0, 0, 0, 0, 0, 0, 0, 0, 0, 0, 0, 0, 0, 0, 0, 0, 0, 0, 0, 0, 0, 0, 0, 0, 0, 0, 0, 0, 0, 0, 0, 0, 0, 0, 0, 0, 0, 0, 0, 0, 0, 0, 0, 0, 0, 0, 0, 0, 0, 0, 0, 0, 0, 0, 0, 0, 0, 0, 0, 0, 0, 0, 0, 0, 0, 0, 0, 0, 0], 'labels': [-100, 'O', 'O', 'O', 'O', 'O', 'O', 'O', 'B-PRODUCT', 'O', 'B-PRODUCT', 'O', 'O', 'O', 'O', 'O', 'O', 'B-PRODUCT', 'I-PRODUCT', 'O', 'O', 'O', 'O', 'O', 'O', 'O', 'O', 'O', 'O', 'O', -100, -100, -100, -100, -100, -100, -100, -100, -100, -100, -100, -100, -100, -100, -100, -100, -100, -100, -100, -100, -100, -100, -100, -100, -100, -100, -100, -100, -100, -100, -100, -100, -100, -100, -100, -100, -100, -100, -100, -100, -100, -100, -100, -100, -100, -100, -100, -100, -100, -100, -100, -100, -100, -100, -100, -100, -100, -100, -100, -100, -100, -100, -100, -100, -100, -100, -100, -100, -100, -100, -100, -100, -100, -100, -100, -100, -100, -100, -100, -100, -100, -100, -100, -100, -100, -100, -100, -100, -100, -100, -100, -100, -100, -100, -100, -100, -100, -100]}"
     },
     "execution_count": 30,
     "metadata": {},
     "output_type": "execute_result"
    }
   ],
   "source": [
    "tokenized_inputs"
   ],
   "metadata": {
    "collapsed": false,
    "pycharm": {
     "name": "#%%\n"
    }
   }
  },
  {
   "cell_type": "code",
   "execution_count": 27,
   "outputs": [
    {
     "data": {
      "text/plain": "31"
     },
     "execution_count": 27,
     "metadata": {},
     "output_type": "execute_result"
    }
   ],
   "source": [
    "len(tokenized_inputs['input_ids'])"
   ],
   "metadata": {
    "collapsed": false,
    "pycharm": {
     "name": "#%%\n"
    }
   }
  },
  {
   "cell_type": "code",
   "execution_count": 31,
   "outputs": [
    {
     "data": {
      "text/plain": "           id  ref_id                  source  \\\n0           0    42.0  tan_data_185_email_BIO   \n1           1    42.0  tan_data_185_email_BIO   \n2           1     NaN                    None   \n3           2    42.0  tan_data_185_email_BIO   \n4           3    42.0  tan_data_185_email_BIO   \n...       ...     ...                     ...   \n18784  638758     NaN                    None   \n18785  638760     NaN                    None   \n18786  638762     NaN                    None   \n18787  638790     NaN                    None   \n18788  638793     NaN                    None   \n\n                                                    text  \\\n0      Ngày nay nhu cầu sử dụng các poster ; backgrou...   \n1      Chính vì thế , một loạt các công ty thiết kế đ...   \n2      Môi trường làm việc lý tưởng , văn phòng đẹp ,...   \n3      Và dưới đây , Saigon Review xin giới thiệu top...   \n4      Là công ty thiết kế đồ họa tại TPHCM với thế m...   \n...                                                  ...   \n18784  Yêu là vượt lên nỗi sợ bị tổn thương , để cá t...   \n18785                                        phẩm chất .   \n18786  \"She'd better call me back later!\" (Tốt hơn hế...   \n18787  e) Giấy chứng nhận sức khỏe do cơ quan y tế có...   \n18788  - Thống kê , lập báo cáo tình hình mua sắm , s...   \n\n                                             conll_label  \n0      [Ngày O, nay O, nhu O, cầu O, sử O, dụng O, cá...  \n1      [Chính O, vì O, thế O, , O, một O, loạt O, các...  \n2      [Môi O, trường O, làm O, việc O, lý O, tưởng O...  \n3      [Và O, dưới O, đây O, , O, Saigon B-ORGANIZATI...  \n4      [Là O, công O, ty O, thiết O, kế O, đồ O, họa ...  \n...                                                  ...  \n18784  [Yêu O, là O, vượt O, lên O, nỗi O, sợ O, bị O...  \n18785                              [phẩm O, chất O, . O]  \n18786  [\"She'd O, better O, call O, me O, back O, lat...  \n18787  [e) O, Giấy O, chứng O, nhận O, sức O, khỏe O,...  \n18788  [- O, Thống O, kê O, , O, lập O, báo O, cáo O,...  \n\n[18789 rows x 5 columns]",
      "text/html": "<div>\n<style scoped>\n    .dataframe tbody tr th:only-of-type {\n        vertical-align: middle;\n    }\n\n    .dataframe tbody tr th {\n        vertical-align: top;\n    }\n\n    .dataframe thead th {\n        text-align: right;\n    }\n</style>\n<table border=\"1\" class=\"dataframe\">\n  <thead>\n    <tr style=\"text-align: right;\">\n      <th></th>\n      <th>id</th>\n      <th>ref_id</th>\n      <th>source</th>\n      <th>text</th>\n      <th>conll_label</th>\n    </tr>\n  </thead>\n  <tbody>\n    <tr>\n      <th>0</th>\n      <td>0</td>\n      <td>42.0</td>\n      <td>tan_data_185_email_BIO</td>\n      <td>Ngày nay nhu cầu sử dụng các poster ; backgrou...</td>\n      <td>[Ngày O, nay O, nhu O, cầu O, sử O, dụng O, cá...</td>\n    </tr>\n    <tr>\n      <th>1</th>\n      <td>1</td>\n      <td>42.0</td>\n      <td>tan_data_185_email_BIO</td>\n      <td>Chính vì thế , một loạt các công ty thiết kế đ...</td>\n      <td>[Chính O, vì O, thế O, , O, một O, loạt O, các...</td>\n    </tr>\n    <tr>\n      <th>2</th>\n      <td>1</td>\n      <td>NaN</td>\n      <td>None</td>\n      <td>Môi trường làm việc lý tưởng , văn phòng đẹp ,...</td>\n      <td>[Môi O, trường O, làm O, việc O, lý O, tưởng O...</td>\n    </tr>\n    <tr>\n      <th>3</th>\n      <td>2</td>\n      <td>42.0</td>\n      <td>tan_data_185_email_BIO</td>\n      <td>Và dưới đây , Saigon Review xin giới thiệu top...</td>\n      <td>[Và O, dưới O, đây O, , O, Saigon B-ORGANIZATI...</td>\n    </tr>\n    <tr>\n      <th>4</th>\n      <td>3</td>\n      <td>42.0</td>\n      <td>tan_data_185_email_BIO</td>\n      <td>Là công ty thiết kế đồ họa tại TPHCM với thế m...</td>\n      <td>[Là O, công O, ty O, thiết O, kế O, đồ O, họa ...</td>\n    </tr>\n    <tr>\n      <th>...</th>\n      <td>...</td>\n      <td>...</td>\n      <td>...</td>\n      <td>...</td>\n      <td>...</td>\n    </tr>\n    <tr>\n      <th>18784</th>\n      <td>638758</td>\n      <td>NaN</td>\n      <td>None</td>\n      <td>Yêu là vượt lên nỗi sợ bị tổn thương , để cá t...</td>\n      <td>[Yêu O, là O, vượt O, lên O, nỗi O, sợ O, bị O...</td>\n    </tr>\n    <tr>\n      <th>18785</th>\n      <td>638760</td>\n      <td>NaN</td>\n      <td>None</td>\n      <td>phẩm chất .</td>\n      <td>[phẩm O, chất O, . O]</td>\n    </tr>\n    <tr>\n      <th>18786</th>\n      <td>638762</td>\n      <td>NaN</td>\n      <td>None</td>\n      <td>\"She'd better call me back later!\" (Tốt hơn hế...</td>\n      <td>[\"She'd O, better O, call O, me O, back O, lat...</td>\n    </tr>\n    <tr>\n      <th>18787</th>\n      <td>638790</td>\n      <td>NaN</td>\n      <td>None</td>\n      <td>e) Giấy chứng nhận sức khỏe do cơ quan y tế có...</td>\n      <td>[e) O, Giấy O, chứng O, nhận O, sức O, khỏe O,...</td>\n    </tr>\n    <tr>\n      <th>18788</th>\n      <td>638793</td>\n      <td>NaN</td>\n      <td>None</td>\n      <td>- Thống kê , lập báo cáo tình hình mua sắm , s...</td>\n      <td>[- O, Thống O, kê O, , O, lập O, báo O, cáo O,...</td>\n    </tr>\n  </tbody>\n</table>\n<p>18789 rows × 5 columns</p>\n</div>"
     },
     "execution_count": 31,
     "metadata": {},
     "output_type": "execute_result"
    }
   ],
   "source": [
    "dataset_df"
   ],
   "metadata": {
    "collapsed": false,
    "pycharm": {
     "name": "#%%\n"
    }
   }
  },
  {
   "cell_type": "code",
   "execution_count": 33,
   "outputs": [],
   "source": [
    "from sklearn.model_selection import train_test_split"
   ],
   "metadata": {
    "collapsed": false,
    "pycharm": {
     "name": "#%%\n"
    }
   }
  },
  {
   "cell_type": "code",
   "execution_count": 38,
   "outputs": [],
   "source": [
    "df_train, df_rest = train_test_split(dataset_df, shuffle=True, random_state=43, stratify=dataset_df[['source']], train_size=0.7)"
   ],
   "metadata": {
    "collapsed": false,
    "pycharm": {
     "name": "#%%\n"
    }
   }
  },
  {
   "cell_type": "code",
   "execution_count": 44,
   "outputs": [
    {
     "data": {
      "text/plain": "vnexpress_374_BIO         6509\ntan_data_185_email_BIO    3150\nNaN                       1394\nchotot_filtered_BIO       1138\n200_IP_BIO                 546\nphapluat_BIO               209\nskill_BIO                  172\nTan_Manh_address_BIO        34\nName: source, dtype: int64"
     },
     "execution_count": 44,
     "metadata": {},
     "output_type": "execute_result"
    }
   ],
   "source": [
    "df_train['source'].value_counts(dropna=False)"
   ],
   "metadata": {
    "collapsed": false,
    "pycharm": {
     "name": "#%%\n"
    }
   }
  },
  {
   "cell_type": "code",
   "execution_count": 47,
   "outputs": [
    {
     "data": {
      "text/plain": "           id  ref_id                  source  \\\n16942   17243   207.0       vnexpress_374_BIO   \n9003     8831    64.0       vnexpress_374_BIO   \n17920  347239     NaN                    None   \n7899     7649     9.0  tan_data_185_email_BIO   \n18025  347873     NaN                    None   \n...       ...     ...                     ...   \n7364     7104   132.0       vnexpress_374_BIO   \n13790   13950   190.0     chotot_filtered_BIO   \n8152     7937   114.0       vnexpress_374_BIO   \n372       356    52.0       vnexpress_374_BIO   \n11017   11034   159.0       vnexpress_374_BIO   \n\n                                                    text  \\\n16942  Trong giai đoạn đầu sự nghiệp , ông làm việc c...   \n9003   Tuy nhiên , chính quyền mới của Taliban ngay l...   \n17920  Nếu đó là điều không thể , bạn nên dọn sạch ph...   \n7899   Trường đại học có ngành tài chính ngân hàng TP...   \n18025                     Bão tới , mái tốc , nhà xiêu .   \n...                                                  ...   \n7364   Thạc sĩ Tú Phạm , chủ nhiệm trung tâm , cho bi...   \n13790  Công ty mình cần Tuyển Nhân Viên Cung Cấp Suất...   \n8152   Sư thầy Thích Đức Trí cho biết đã được gia đìn...   \n372    Trường hợp của Wilfred là một trong những vụ b...   \n11017  Hôm sau , đến lượt Albert bị bắt ở một nơi khô...   \n\n                                             conll_label  \n16942  [Trong O, giai O, đoạn O, đầu O, sự O, nghiệp ...  \n9003   [Tuy O, nhiên O, , O, chính O, quyền O, mới O,...  \n17920  [Nếu O, đó O, là O, điều O, không O, thể O, , ...  \n7899   [Trường O, đại O, học O, có O, ngành O, tài O,...  \n18025  [Bão O, tới O, , O, mái O, tốc O, , O, nhà O, ...  \n...                                                  ...  \n7364   [Thạc B-PERSONTYPE, sĩ I-PERSONTYPE, Tú B-PERS...  \n13790  [Công O, ty O, mình O, cần O, Tuyển O, Nhân B-...  \n8152   [Sư B-PERSONTYPE, thầy I-PERSONTYPE, Thích B-P...  \n372    [Trường O, hợp O, của O, Wilfred B-PERSON, là ...  \n11017  [Hôm B-DATETIME, sau I-DATETIME, , O, đến O, l...  \n\n[13152 rows x 5 columns]",
      "text/html": "<div>\n<style scoped>\n    .dataframe tbody tr th:only-of-type {\n        vertical-align: middle;\n    }\n\n    .dataframe tbody tr th {\n        vertical-align: top;\n    }\n\n    .dataframe thead th {\n        text-align: right;\n    }\n</style>\n<table border=\"1\" class=\"dataframe\">\n  <thead>\n    <tr style=\"text-align: right;\">\n      <th></th>\n      <th>id</th>\n      <th>ref_id</th>\n      <th>source</th>\n      <th>text</th>\n      <th>conll_label</th>\n    </tr>\n  </thead>\n  <tbody>\n    <tr>\n      <th>16942</th>\n      <td>17243</td>\n      <td>207.0</td>\n      <td>vnexpress_374_BIO</td>\n      <td>Trong giai đoạn đầu sự nghiệp , ông làm việc c...</td>\n      <td>[Trong O, giai O, đoạn O, đầu O, sự O, nghiệp ...</td>\n    </tr>\n    <tr>\n      <th>9003</th>\n      <td>8831</td>\n      <td>64.0</td>\n      <td>vnexpress_374_BIO</td>\n      <td>Tuy nhiên , chính quyền mới của Taliban ngay l...</td>\n      <td>[Tuy O, nhiên O, , O, chính O, quyền O, mới O,...</td>\n    </tr>\n    <tr>\n      <th>17920</th>\n      <td>347239</td>\n      <td>NaN</td>\n      <td>None</td>\n      <td>Nếu đó là điều không thể , bạn nên dọn sạch ph...</td>\n      <td>[Nếu O, đó O, là O, điều O, không O, thể O, , ...</td>\n    </tr>\n    <tr>\n      <th>7899</th>\n      <td>7649</td>\n      <td>9.0</td>\n      <td>tan_data_185_email_BIO</td>\n      <td>Trường đại học có ngành tài chính ngân hàng TP...</td>\n      <td>[Trường O, đại O, học O, có O, ngành O, tài O,...</td>\n    </tr>\n    <tr>\n      <th>18025</th>\n      <td>347873</td>\n      <td>NaN</td>\n      <td>None</td>\n      <td>Bão tới , mái tốc , nhà xiêu .</td>\n      <td>[Bão O, tới O, , O, mái O, tốc O, , O, nhà O, ...</td>\n    </tr>\n    <tr>\n      <th>...</th>\n      <td>...</td>\n      <td>...</td>\n      <td>...</td>\n      <td>...</td>\n      <td>...</td>\n    </tr>\n    <tr>\n      <th>7364</th>\n      <td>7104</td>\n      <td>132.0</td>\n      <td>vnexpress_374_BIO</td>\n      <td>Thạc sĩ Tú Phạm , chủ nhiệm trung tâm , cho bi...</td>\n      <td>[Thạc B-PERSONTYPE, sĩ I-PERSONTYPE, Tú B-PERS...</td>\n    </tr>\n    <tr>\n      <th>13790</th>\n      <td>13950</td>\n      <td>190.0</td>\n      <td>chotot_filtered_BIO</td>\n      <td>Công ty mình cần Tuyển Nhân Viên Cung Cấp Suất...</td>\n      <td>[Công O, ty O, mình O, cần O, Tuyển O, Nhân B-...</td>\n    </tr>\n    <tr>\n      <th>8152</th>\n      <td>7937</td>\n      <td>114.0</td>\n      <td>vnexpress_374_BIO</td>\n      <td>Sư thầy Thích Đức Trí cho biết đã được gia đìn...</td>\n      <td>[Sư B-PERSONTYPE, thầy I-PERSONTYPE, Thích B-P...</td>\n    </tr>\n    <tr>\n      <th>372</th>\n      <td>356</td>\n      <td>52.0</td>\n      <td>vnexpress_374_BIO</td>\n      <td>Trường hợp của Wilfred là một trong những vụ b...</td>\n      <td>[Trường O, hợp O, của O, Wilfred B-PERSON, là ...</td>\n    </tr>\n    <tr>\n      <th>11017</th>\n      <td>11034</td>\n      <td>159.0</td>\n      <td>vnexpress_374_BIO</td>\n      <td>Hôm sau , đến lượt Albert bị bắt ở một nơi khô...</td>\n      <td>[Hôm B-DATETIME, sau I-DATETIME, , O, đến O, l...</td>\n    </tr>\n  </tbody>\n</table>\n<p>13152 rows × 5 columns</p>\n</div>"
     },
     "execution_count": 47,
     "metadata": {},
     "output_type": "execute_result"
    }
   ],
   "source": [
    "df_train"
   ],
   "metadata": {
    "collapsed": false,
    "pycharm": {
     "name": "#%%\n"
    }
   }
  },
  {
   "cell_type": "code",
   "execution_count": 45,
   "outputs": [
    {
     "ename": "TypeError",
     "evalue": "describe() got an unexpected keyword argument 'dropna'",
     "output_type": "error",
     "traceback": [
      "\u001B[0;31m---------------------------------------------------------------------------\u001B[0m",
      "\u001B[0;31mTypeError\u001B[0m                                 Traceback (most recent call last)",
      "\u001B[0;32m<ipython-input-45-8fb9774c9d76>\u001B[0m in \u001B[0;36m<module>\u001B[0;34m\u001B[0m\n\u001B[0;32m----> 1\u001B[0;31m \u001B[0mdf_train\u001B[0m\u001B[0;34m[\u001B[0m\u001B[0;34m'source'\u001B[0m\u001B[0;34m]\u001B[0m\u001B[0;34m.\u001B[0m\u001B[0mdescribe\u001B[0m\u001B[0;34m(\u001B[0m\u001B[0mdropna\u001B[0m\u001B[0;34m=\u001B[0m\u001B[0;32mFalse\u001B[0m\u001B[0;34m)\u001B[0m\u001B[0;34m\u001B[0m\u001B[0;34m\u001B[0m\u001B[0m\n\u001B[0m",
      "\u001B[0;31mTypeError\u001B[0m: describe() got an unexpected keyword argument 'dropna'"
     ]
    }
   ],
   "source": [
    "df_train['source'].describe(dropna=False)"
   ],
   "metadata": {
    "collapsed": false,
    "pycharm": {
     "name": "#%%\n"
    }
   }
  },
  {
   "cell_type": "code",
   "execution_count": 46,
   "outputs": [
    {
     "data": {
      "text/plain": "vnexpress_374_BIO         2790\ntan_data_185_email_BIO    1350\nNaN                        598\nchotot_filtered_BIO        488\n200_IP_BIO                 234\nphapluat_BIO                89\nskill_BIO                   74\nTan_Manh_address_BIO        14\nName: source, dtype: int64"
     },
     "execution_count": 46,
     "metadata": {},
     "output_type": "execute_result"
    }
   ],
   "source": [
    "df_rest['source'].value_counts(dropna=False)"
   ],
   "metadata": {
    "collapsed": false,
    "pycharm": {
     "name": "#%%\n"
    }
   }
  },
  {
   "cell_type": "code",
   "execution_count": 1,
   "outputs": [],
   "source": [
    "from datasets import load_metric"
   ],
   "metadata": {
    "collapsed": false,
    "pycharm": {
     "name": "#%%\n"
    }
   }
  },
  {
   "cell_type": "code",
   "execution_count": 2,
   "outputs": [],
   "source": [
    "metric = load_metric(\"seqeval\")"
   ],
   "metadata": {
    "collapsed": false,
    "pycharm": {
     "name": "#%%\n"
    }
   }
  },
  {
   "cell_type": "code",
   "execution_count": 3,
   "outputs": [],
   "source": [
    "labels = ['O', 'O', 'O', 'O', 'O', 'O', 'O', 'B-PRODUCT', 'O', 'B-PRODUCT', 'O', 'O', 'O', 'O', 'O', 'O', 'B-PRODUCT', 'I-PRODUCT']"
   ],
   "metadata": {
    "collapsed": false,
    "pycharm": {
     "name": "#%%\n"
    }
   }
  },
  {
   "cell_type": "code",
   "execution_count": 4,
   "outputs": [
    {
     "data": {
      "text/plain": "{'PRODUCT': {'precision': 1.0, 'recall': 1.0, 'f1': 1.0, 'number': 3},\n 'overall_precision': 1.0,\n 'overall_recall': 1.0,\n 'overall_f1': 1.0,\n 'overall_accuracy': 1.0}"
     },
     "execution_count": 4,
     "metadata": {},
     "output_type": "execute_result"
    }
   ],
   "source": [
    "metric.compute(predictions=[labels], references=[labels])"
   ],
   "metadata": {
    "collapsed": false,
    "pycharm": {
     "name": "#%%\n"
    }
   }
  },
  {
   "cell_type": "code",
   "execution_count": null,
   "outputs": [],
   "source": [],
   "metadata": {
    "collapsed": false,
    "pycharm": {
     "name": "#%%\n"
    }
   }
  }
 ],
 "metadata": {
  "kernelspec": {
   "display_name": "Python 3",
   "language": "python",
   "name": "python3"
  },
  "language_info": {
   "codemirror_mode": {
    "name": "ipython",
    "version": 2
   },
   "file_extension": ".py",
   "mimetype": "text/x-python",
   "name": "python",
   "nbconvert_exporter": "python",
   "pygments_lexer": "ipython2",
   "version": "2.7.6"
  }
 },
 "nbformat": 4,
 "nbformat_minor": 0
}